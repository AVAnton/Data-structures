{
 "cells": [
  {
   "cell_type": "code",
   "execution_count": 1,
   "metadata": {
    "ExecuteTime": {
     "end_time": "2021-09-09T12:20:29.364866Z",
     "start_time": "2021-09-09T12:20:29.352866Z"
    }
   },
   "outputs": [],
   "source": [
    "class Node:\n",
    "    def __init__(self, data, next_node=None):\n",
    "        self.data = data\n",
    "        self.next_node = next_node\n",
    "\n",
    "    def get_data(self):\n",
    "        return self.data\n",
    "\n",
    "    def get_next(self):\n",
    "        return self.next_node"
   ]
  },
  {
   "cell_type": "code",
   "execution_count": 2,
   "metadata": {
    "ExecuteTime": {
     "end_time": "2021-09-09T12:20:29.866442Z",
     "start_time": "2021-09-09T12:20:29.842444Z"
    }
   },
   "outputs": [],
   "source": [
    "class LinkedList:\n",
    "    def __init__(self, head=None):\n",
    "        self.head = head\n",
    "\n",
    "    def get(self, index: int) -> int:\n",
    "        return print(\"invalid\") if self.get_node(\n",
    "            index) == -1 else self.get_node(index).data\n",
    "\n",
    "    def get_node(self, index: int) -> Node:\n",
    "        i = 0\n",
    "        node = self.head\n",
    "        if node == None:\n",
    "            return -1\n",
    "        while i != index:\n",
    "            if node.next_node == None:\n",
    "                return -1\n",
    "            node = node.next_node\n",
    "            i += 1\n",
    "\n",
    "        return node\n",
    "\n",
    "    def addAtHead(self, val: int) -> None:\n",
    "        self.head = Node(val, self.head)\n",
    "\n",
    "    def addAtTail(self, val: int) -> None:\n",
    "        elem = self.head\n",
    "        if elem == None:\n",
    "            self.head = Node(val)\n",
    "        else:\n",
    "            while elem.next_node != None:\n",
    "                elem = elem.next_node\n",
    "            elem.next_node = Node(val)\n",
    "\n",
    "    def addAtIndex(self, index: int, val: int) -> None:\n",
    "        if index == 0:\n",
    "            self.addAtHead(val)\n",
    "        else:\n",
    "            prev_elem = self.get_node(index - 1)\n",
    "            if prev_elem == -1:\n",
    "                return print('Invalid')\n",
    "            next_elem = self.get_node(index)\n",
    "            if next_elem == -1:\n",
    "                next_elem = None\n",
    "            cur_elem = Node(val, next_elem)\n",
    "            prev_elem.next_node = cur_elem\n",
    "\n",
    "    def deleteAtIndex(self, index: int) -> None:\n",
    "        if index == 0:\n",
    "            self.head = self.head.next_node\n",
    "        else:\n",
    "            prev_elem = self.get_node(index - 1)\n",
    "            if prev_elem == -1:\n",
    "                return print('Invalid')\n",
    "            next_elem = self.get_node(index + 1)\n",
    "            if next_elem == -1:\n",
    "                return print('Invalid')\n",
    "            prev_elem.next_node = next_elem"
   ]
  },
  {
   "cell_type": "code",
   "execution_count": 3,
   "metadata": {
    "ExecuteTime": {
     "end_time": "2021-09-09T12:20:30.521538Z",
     "start_time": "2021-09-09T12:20:30.498539Z"
    }
   },
   "outputs": [
    {
     "name": "stdout",
     "output_type": "stream",
     "text": [
      "7\n",
      "6\n",
      "8\n",
      "4\n",
      "\n",
      "7\n",
      "6\n",
      "4\n"
     ]
    }
   ],
   "source": [
    "n1 = Node(6)\n",
    "n2 = Node(7)\n",
    "n3 = Node(8)\n",
    "L = LinkedList(n1)\n",
    "\n",
    "L.addAtHead(7)\n",
    "L.addAtTail(8)\n",
    "L.addAtIndex(3, 4)\n",
    "print(L.get(0))\n",
    "print(L.get(1))\n",
    "print(L.get(2))\n",
    "print(L.get(3))\n",
    "L.deleteAtIndex(2)\n",
    "print()\n",
    "print(L.get(0))\n",
    "print(L.get(1))\n",
    "print(L.get(2))"
   ]
  }
 ],
 "metadata": {
  "kernelspec": {
   "display_name": "Python 3",
   "language": "python",
   "name": "python3"
  },
  "language_info": {
   "codemirror_mode": {
    "name": "ipython",
    "version": 3
   },
   "file_extension": ".py",
   "mimetype": "text/x-python",
   "name": "python",
   "nbconvert_exporter": "python",
   "pygments_lexer": "ipython3",
   "version": "3.7.6"
  }
 },
 "nbformat": 4,
 "nbformat_minor": 4
}
